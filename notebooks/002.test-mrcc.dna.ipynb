{
 "cells": [
  {
   "cell_type": "code",
   "execution_count": 1,
   "id": "a40070d1-4559-40dc-8203-df9838915bcf",
   "metadata": {},
   "outputs": [],
   "source": [
    "import os\n",
    "import sys\n",
    "import glob\n",
    "import pandas as pd\n",
    "import seaborn as sns\n",
    "import numpy as np\n",
    "import matplotlib.pyplot as plt\n",
    "\n",
    "import mrcc\n",
    "from mrcc.p_from_scaled_containment import compute_confidence_intervals\n",
    "\n",
    "sns.set_context(\"paper\")"
   ]
  },
  {
   "cell_type": "code",
   "execution_count": 2,
   "id": "2c14bb6c-1080-48ab-9094-acc86951d164",
   "metadata": {},
   "outputs": [
    {
     "data": {
      "text/plain": [
       "'0.24.2'"
      ]
     },
     "execution_count": 2,
     "metadata": {},
     "output_type": "execute_result"
    }
   ],
   "source": [
    "pd.__version__"
   ]
  },
  {
   "cell_type": "markdown",
   "id": "f5c16bd2-5553-4729-ade8-0a174c1f548c",
   "metadata": {},
   "source": [
    "## Run the Test Data with mrcc.p_from_scaled_containment"
   ]
  },
  {
   "cell_type": "code",
   "execution_count": 3,
   "id": "53b14294-7648-4b52-8a85-f20ec5352274",
   "metadata": {},
   "outputs": [
    {
     "name": "stdout",
     "output_type": "stream",
     "text": [
      "L\tk\tconf\tCks\tCLow\tCHigh\tpLow\tpHigh\n",
      "100000\t21\t0.95\t0.10605\t0.10046\t0.11191\t0.09623\t0.10655\n"
     ]
    }
   ],
   "source": [
    "%%bash\n",
    "# run on command line\n",
    "python -m mrcc.p_from_scaled_containment -L 100K -k 21 -c 0.95 --sccon 0.10605"
   ]
  },
  {
   "cell_type": "code",
   "execution_count": 4,
   "id": "29505461-4efc-4ee4-b433-e84f7c11db9c",
   "metadata": {},
   "outputs": [
    {
     "data": {
      "text/plain": [
       "[[100000,\n",
       "  21,\n",
       "  0.95,\n",
       "  0.10605,\n",
       "  mpf('0.10046044759723280359624752115346686087576683874616503'),\n",
       "  mpf('0.11191185994396290217198335874293883856388369710875699'),\n",
       "  0.09623087565457938,\n",
       "  0.10655865394035784]]"
      ]
     },
     "execution_count": 4,
     "metadata": {},
     "output_type": "execute_result"
    }
   ],
   "source": [
    "# run the same within python:\n",
    "\n",
    "num_unique_kmers = 100000\n",
    "ksize = 21\n",
    "confidence=0.95\n",
    "observed_containment=[0.10605]\n",
    "scaled=0.1\n",
    "compute_confidence_intervals(observed_containment, num_unique_kmers, ksize, confidence, scaled)"
   ]
  },
  {
   "cell_type": "markdown",
   "id": "3c33f66c-6c27-4446-8228-8d5857cf1c48",
   "metadata": {},
   "source": [
    "# Import Preprocessed Simulated Read Data"
   ]
  },
  {
   "cell_type": "code",
   "execution_count": 5,
   "id": "2396c8c6-3d5a-4be3-818d-791475eb25f7",
   "metadata": {},
   "outputs": [
    {
     "name": "stdout",
     "output_type": "stream",
     "text": [
      "simreads-compare.dnainput.csv.gz\n",
      "simreads-compare.dnainput.processed.csv.gz\n"
     ]
    },
    {
     "name": "stderr",
     "output_type": "stream",
     "text": [
      "  % Total    % Received % Xferd  Average Speed   Time    Time     Time  Current\n",
      "                                 Dload  Upload   Total   Spent    Left  Speed\n",
      "100   459  100   459    0     0    692      0 --:--:-- --:--:-- --:--:--   692\n",
      "100 7421k  100 7421k    0     0  2289k      0  0:00:03  0:00:03 --:--:-- 3100k\n"
     ]
    }
   ],
   "source": [
    "%%bash\n",
    "mkdir -p ../data\n",
    "curl -L https://osf.io/f4a9k/download -o ../data/simreads-compare.dnainput.processed.csv.gz\n",
    "ls ../data"
   ]
  },
  {
   "cell_type": "code",
   "execution_count": 6,
   "id": "9f6fee00-c0c8-4cb9-900e-aa156f6b58e4",
   "metadata": {},
   "outputs": [
    {
     "data": {
      "text/html": [
       "<div>\n",
       "<style scoped>\n",
       "    .dataframe tbody tr th:only-of-type {\n",
       "        vertical-align: middle;\n",
       "    }\n",
       "\n",
       "    .dataframe tbody tr th {\n",
       "        vertical-align: top;\n",
       "    }\n",
       "\n",
       "    .dataframe thead th {\n",
       "        text-align: right;\n",
       "    }\n",
       "</style>\n",
       "<table border=\"1\" class=\"dataframe\">\n",
       "  <thead>\n",
       "    <tr style=\"text-align: right;\">\n",
       "      <th></th>\n",
       "      <th>comparison_name</th>\n",
       "      <th>sig1_name</th>\n",
       "      <th>sig2_name</th>\n",
       "      <th>alphabet</th>\n",
       "      <th>ksize</th>\n",
       "      <th>scaled</th>\n",
       "      <th>jaccard</th>\n",
       "      <th>max_containment</th>\n",
       "      <th>sig1_containment</th>\n",
       "      <th>sig2_containment</th>\n",
       "      <th>sig1_hashes</th>\n",
       "      <th>sig2_hashes</th>\n",
       "      <th>num_common</th>\n",
       "      <th>alpha-ksize</th>\n",
       "      <th>num_unique_kmers</th>\n",
       "      <th>true p-distance</th>\n",
       "    </tr>\n",
       "  </thead>\n",
       "  <tbody>\n",
       "    <tr>\n",
       "      <th>0</th>\n",
       "      <td>data-d0.05-f1-nogam-seed36</td>\n",
       "      <td>data-d0.05-f1-nogam-seed36-seq1</td>\n",
       "      <td>data-d0.05-f1-nogam-seed36-seq2</td>\n",
       "      <td>dna</td>\n",
       "      <td>21</td>\n",
       "      <td>1</td>\n",
       "      <td>0.190577</td>\n",
       "      <td>0.320984</td>\n",
       "      <td>0.319303</td>\n",
       "      <td>1.0</td>\n",
       "      <td>4993153</td>\n",
       "      <td>4967010</td>\n",
       "      <td>1594331</td>\n",
       "      <td>dna-21</td>\n",
       "      <td>4980081.5</td>\n",
       "      <td>0.047995</td>\n",
       "    </tr>\n",
       "    <tr>\n",
       "      <th>1</th>\n",
       "      <td>data-d0.05-f1-nogam-seed36</td>\n",
       "      <td>data-d0.05-f1-nogam-seed36-seq1</td>\n",
       "      <td>data-d0.05-f1-nogam-seed36-seq2</td>\n",
       "      <td>dna</td>\n",
       "      <td>21</td>\n",
       "      <td>100</td>\n",
       "      <td>0.192184</td>\n",
       "      <td>0.322739</td>\n",
       "      <td>0.322739</td>\n",
       "      <td>1.0</td>\n",
       "      <td>49616</td>\n",
       "      <td>49718</td>\n",
       "      <td>16013</td>\n",
       "      <td>dna-21</td>\n",
       "      <td>4980081.5</td>\n",
       "      <td>0.047995</td>\n",
       "    </tr>\n",
       "    <tr>\n",
       "      <th>2</th>\n",
       "      <td>data-d0.05-f1-nogam-seed36</td>\n",
       "      <td>data-d0.05-f1-nogam-seed36-seq1</td>\n",
       "      <td>data-d0.05-f1-nogam-seed36-seq2</td>\n",
       "      <td>dna</td>\n",
       "      <td>21</td>\n",
       "      <td>1000</td>\n",
       "      <td>0.197087</td>\n",
       "      <td>0.332343</td>\n",
       "      <td>0.326269</td>\n",
       "      <td>1.0</td>\n",
       "      <td>5143</td>\n",
       "      <td>5049</td>\n",
       "      <td>1678</td>\n",
       "      <td>dna-21</td>\n",
       "      <td>4980081.5</td>\n",
       "      <td>0.047995</td>\n",
       "    </tr>\n",
       "    <tr>\n",
       "      <th>3</th>\n",
       "      <td>data-d0.05-f1-nogam-seed36</td>\n",
       "      <td>data-d0.05-f1-nogam-seed36-seq1</td>\n",
       "      <td>data-d0.05-f1-nogam-seed36-seq2</td>\n",
       "      <td>dna</td>\n",
       "      <td>21</td>\n",
       "      <td>2000</td>\n",
       "      <td>0.201250</td>\n",
       "      <td>0.338455</td>\n",
       "      <td>0.331748</td>\n",
       "      <td>1.0</td>\n",
       "      <td>2523</td>\n",
       "      <td>2473</td>\n",
       "      <td>837</td>\n",
       "      <td>dna-21</td>\n",
       "      <td>4980081.5</td>\n",
       "      <td>0.047995</td>\n",
       "    </tr>\n",
       "    <tr>\n",
       "      <th>4</th>\n",
       "      <td>data-d0.05-f1-nogam-seed36</td>\n",
       "      <td>data-d0.05-f1-nogam-seed36-seq1</td>\n",
       "      <td>data-d0.05-f1-nogam-seed36-seq2</td>\n",
       "      <td>dna</td>\n",
       "      <td>31</td>\n",
       "      <td>1</td>\n",
       "      <td>0.107025</td>\n",
       "      <td>0.193865</td>\n",
       "      <td>0.192850</td>\n",
       "      <td>1.0</td>\n",
       "      <td>4993150</td>\n",
       "      <td>4967004</td>\n",
       "      <td>962929</td>\n",
       "      <td>dna-31</td>\n",
       "      <td>4980077.0</td>\n",
       "      <td>0.047995</td>\n",
       "    </tr>\n",
       "  </tbody>\n",
       "</table>\n",
       "</div>"
      ],
      "text/plain": [
       "              comparison_name                        sig1_name  \\\n",
       "0  data-d0.05-f1-nogam-seed36  data-d0.05-f1-nogam-seed36-seq1   \n",
       "1  data-d0.05-f1-nogam-seed36  data-d0.05-f1-nogam-seed36-seq1   \n",
       "2  data-d0.05-f1-nogam-seed36  data-d0.05-f1-nogam-seed36-seq1   \n",
       "3  data-d0.05-f1-nogam-seed36  data-d0.05-f1-nogam-seed36-seq1   \n",
       "4  data-d0.05-f1-nogam-seed36  data-d0.05-f1-nogam-seed36-seq1   \n",
       "\n",
       "                         sig2_name alphabet  ksize  scaled   jaccard  \\\n",
       "0  data-d0.05-f1-nogam-seed36-seq2      dna     21       1  0.190577   \n",
       "1  data-d0.05-f1-nogam-seed36-seq2      dna     21     100  0.192184   \n",
       "2  data-d0.05-f1-nogam-seed36-seq2      dna     21    1000  0.197087   \n",
       "3  data-d0.05-f1-nogam-seed36-seq2      dna     21    2000  0.201250   \n",
       "4  data-d0.05-f1-nogam-seed36-seq2      dna     31       1  0.107025   \n",
       "\n",
       "   max_containment  sig1_containment  sig2_containment  sig1_hashes  \\\n",
       "0         0.320984          0.319303               1.0      4993153   \n",
       "1         0.322739          0.322739               1.0        49616   \n",
       "2         0.332343          0.326269               1.0         5143   \n",
       "3         0.338455          0.331748               1.0         2523   \n",
       "4         0.193865          0.192850               1.0      4993150   \n",
       "\n",
       "   sig2_hashes  num_common alpha-ksize  num_unique_kmers  true p-distance  \n",
       "0      4967010     1594331      dna-21         4980081.5         0.047995  \n",
       "1        49718       16013      dna-21         4980081.5         0.047995  \n",
       "2         5049        1678      dna-21         4980081.5         0.047995  \n",
       "3         2473         837      dna-21         4980081.5         0.047995  \n",
       "4      4967004      962929      dna-31         4980077.0         0.047995  "
      ]
     },
     "execution_count": 6,
     "metadata": {},
     "output_type": "execute_result"
    }
   ],
   "source": [
    "simDF = pd.read_csv(\"../data/simreads-compare.dnainput.processed.csv.gz\")\n",
    "simDF.head()"
   ]
  },
  {
   "cell_type": "markdown",
   "id": "8c01de4e-7121-4b48-adab-1796f12ee70f",
   "metadata": {},
   "source": [
    "### Try mrcc to estimate p from scaled containment"
   ]
  },
  {
   "cell_type": "code",
   "execution_count": 7,
   "id": "dd7a1b4d-0f89-4676-9c59-9fc2075cda6a",
   "metadata": {},
   "outputs": [
    {
     "data": {
      "text/plain": [
       "[[4980082,\n",
       "  21,\n",
       "  0.95,\n",
       "  0.15,\n",
       "  mpf('0.14999999999999999444888487686254876590750012202087263'),\n",
       "  mpf('0.14999999999999999444888487686254876590750012202087263'),\n",
       "  0.08602929375779904,\n",
       "  0.08672776348578592]]"
      ]
     },
     "execution_count": 7,
     "metadata": {},
     "output_type": "execute_result"
    }
   ],
   "source": [
    "# works with containment <=0.15, not above?\n",
    "num_unique_kmers=4980082\n",
    "ksize=21\n",
    "confidence=0.95\n",
    "scaled=1.0\n",
    "observed_containment=[0.15]\n",
    "\n",
    "compute_confidence_intervals(observed_containment, num_unique_kmers, ksize, confidence, scaled)"
   ]
  },
  {
   "cell_type": "code",
   "execution_count": 8,
   "id": "cb7d7cc4-2f04-4f4e-8094-10288a704f22",
   "metadata": {},
   "outputs": [
    {
     "data": {
      "text/plain": [
       "[[4980082,\n",
       "  21,\n",
       "  0.95,\n",
       "  0.320984,\n",
       "  mpf('0.32098399999999999154809415814113018102829718478688624'),\n",
       "  mpf('0.32098399999999999154809415814113018102829718478688624'),\n",
       "  0.05243629673352131,\n",
       "  0.052913080266991375]]"
      ]
     },
     "execution_count": 8,
     "metadata": {},
     "output_type": "execute_result"
    }
   ],
   "source": [
    "## First, test some values directly\n",
    "num_unique_kmers=4980082\n",
    "ksize=21\n",
    "confidence=0.95\n",
    "scaled=1.0\n",
    "observed_containment=[0.320984]\n",
    "\n",
    "compute_confidence_intervals(observed_containment, num_unique_kmers, ksize, confidence, scaled)"
   ]
  },
  {
   "cell_type": "markdown",
   "id": "83ed3792-aee9-44b4-b843-cc647ebb5d06",
   "metadata": {},
   "source": [
    "### Use the following function to get values for all comparisons..."
   ]
  },
  {
   "cell_type": "code",
   "execution_count": 9,
   "id": "4b691c7c-1a33-401b-8db1-bd18d1b05670",
   "metadata": {},
   "outputs": [],
   "source": [
    "# function run p_from_scaled_containment on full dataframe\n",
    "def mrcc_maxcontain(row, confidence=0.95, return_ANI=False):\n",
    "    scaled_perc = 1/row[\"scaled\"]\n",
    "    mc = row[\"max_containment\"]\n",
    "    num_kmers = row[\"num_unique_kmers\"]\n",
    "    ksize = row[\"ksize\"]\n",
    "    mc_results = compute_confidence_intervals([mc], num_kmers, ksize, confidence, scaled_perc)[0]\n",
    "    pLow,pHigh = mc_results[6:]\n",
    "    if return_ANI:\n",
    "        row[\"mc_ANILow\"] = 1 - pLow\n",
    "        row[\"mc_ANIHigh\"] = 1- pHigh   \n",
    "    else:\n",
    "        row[\"mc_pLow\"] = pLow\n",
    "        row[\"mc_pHigh\"] = pHigh\n",
    "    return row"
   ]
  },
  {
   "cell_type": "code",
   "execution_count": 10,
   "id": "a4aa526c-de20-41a7-ba6e-ebb30fa48da1",
   "metadata": {},
   "outputs": [
    {
     "ename": "TypeError",
     "evalue": "(\"cannot create mpf from mpc(real='-0.00348803037430721399437575587078819790990038705147875', imag='-0.0016112491358384129670216132400565549155284115430919072')\", 'occurred at index 9622')",
     "output_type": "error",
     "traceback": [
      "\u001b[0;31m---------------------------------------------------------------------------\u001b[0m",
      "\u001b[0;31mTypeError\u001b[0m                                 Traceback (most recent call last)",
      "\u001b[0;32m<ipython-input-10-376908f2a17a>\u001b[0m in \u001b[0;36m<module>\u001b[0;34m\u001b[0m\n\u001b[1;32m      1\u001b[0m \u001b[0;31m# to run p_from_scaled_containment on full dataframe\u001b[0m\u001b[0;34m\u001b[0m\u001b[0;34m\u001b[0m\u001b[0;34m\u001b[0m\u001b[0m\n\u001b[0;32m----> 2\u001b[0;31m \u001b[0mfullDF\u001b[0m \u001b[0;34m=\u001b[0m \u001b[0msimDF\u001b[0m\u001b[0;34m.\u001b[0m\u001b[0mapply\u001b[0m\u001b[0;34m(\u001b[0m\u001b[0mmrcc_maxcontain\u001b[0m\u001b[0;34m,\u001b[0m \u001b[0maxis\u001b[0m\u001b[0;34m=\u001b[0m\u001b[0;36m1\u001b[0m\u001b[0;34m)\u001b[0m\u001b[0;34m\u001b[0m\u001b[0;34m\u001b[0m\u001b[0m\n\u001b[0m\u001b[1;32m      3\u001b[0m \u001b[0mfullDF\u001b[0m\u001b[0;34m.\u001b[0m\u001b[0mhead\u001b[0m\u001b[0;34m(\u001b[0m\u001b[0;34m)\u001b[0m\u001b[0;34m\u001b[0m\u001b[0;34m\u001b[0m\u001b[0m\n",
      "\u001b[0;32m~/miniconda3/envs/jlab-mrcc/lib/python3.6/site-packages/pandas/core/frame.py\u001b[0m in \u001b[0;36mapply\u001b[0;34m(self, func, axis, broadcast, raw, reduce, result_type, args, **kwds)\u001b[0m\n\u001b[1;32m   6485\u001b[0m                          \u001b[0margs\u001b[0m\u001b[0;34m=\u001b[0m\u001b[0margs\u001b[0m\u001b[0;34m,\u001b[0m\u001b[0;34m\u001b[0m\u001b[0;34m\u001b[0m\u001b[0m\n\u001b[1;32m   6486\u001b[0m                          kwds=kwds)\n\u001b[0;32m-> 6487\u001b[0;31m         \u001b[0;32mreturn\u001b[0m \u001b[0mop\u001b[0m\u001b[0;34m.\u001b[0m\u001b[0mget_result\u001b[0m\u001b[0;34m(\u001b[0m\u001b[0;34m)\u001b[0m\u001b[0;34m\u001b[0m\u001b[0;34m\u001b[0m\u001b[0m\n\u001b[0m\u001b[1;32m   6488\u001b[0m \u001b[0;34m\u001b[0m\u001b[0m\n\u001b[1;32m   6489\u001b[0m     \u001b[0;32mdef\u001b[0m \u001b[0mapplymap\u001b[0m\u001b[0;34m(\u001b[0m\u001b[0mself\u001b[0m\u001b[0;34m,\u001b[0m \u001b[0mfunc\u001b[0m\u001b[0;34m)\u001b[0m\u001b[0;34m:\u001b[0m\u001b[0;34m\u001b[0m\u001b[0;34m\u001b[0m\u001b[0m\n",
      "\u001b[0;32m~/miniconda3/envs/jlab-mrcc/lib/python3.6/site-packages/pandas/core/apply.py\u001b[0m in \u001b[0;36mget_result\u001b[0;34m(self)\u001b[0m\n\u001b[1;32m    149\u001b[0m             \u001b[0;32mreturn\u001b[0m \u001b[0mself\u001b[0m\u001b[0;34m.\u001b[0m\u001b[0mapply_raw\u001b[0m\u001b[0;34m(\u001b[0m\u001b[0;34m)\u001b[0m\u001b[0;34m\u001b[0m\u001b[0;34m\u001b[0m\u001b[0m\n\u001b[1;32m    150\u001b[0m \u001b[0;34m\u001b[0m\u001b[0m\n\u001b[0;32m--> 151\u001b[0;31m         \u001b[0;32mreturn\u001b[0m \u001b[0mself\u001b[0m\u001b[0;34m.\u001b[0m\u001b[0mapply_standard\u001b[0m\u001b[0;34m(\u001b[0m\u001b[0;34m)\u001b[0m\u001b[0;34m\u001b[0m\u001b[0;34m\u001b[0m\u001b[0m\n\u001b[0m\u001b[1;32m    152\u001b[0m \u001b[0;34m\u001b[0m\u001b[0m\n\u001b[1;32m    153\u001b[0m     \u001b[0;32mdef\u001b[0m \u001b[0mapply_empty_result\u001b[0m\u001b[0;34m(\u001b[0m\u001b[0mself\u001b[0m\u001b[0;34m)\u001b[0m\u001b[0;34m:\u001b[0m\u001b[0;34m\u001b[0m\u001b[0;34m\u001b[0m\u001b[0m\n",
      "\u001b[0;32m~/miniconda3/envs/jlab-mrcc/lib/python3.6/site-packages/pandas/core/apply.py\u001b[0m in \u001b[0;36mapply_standard\u001b[0;34m(self)\u001b[0m\n\u001b[1;32m    255\u001b[0m \u001b[0;34m\u001b[0m\u001b[0m\n\u001b[1;32m    256\u001b[0m         \u001b[0;31m# compute the result using the series generator\u001b[0m\u001b[0;34m\u001b[0m\u001b[0;34m\u001b[0m\u001b[0;34m\u001b[0m\u001b[0m\n\u001b[0;32m--> 257\u001b[0;31m         \u001b[0mself\u001b[0m\u001b[0;34m.\u001b[0m\u001b[0mapply_series_generator\u001b[0m\u001b[0;34m(\u001b[0m\u001b[0;34m)\u001b[0m\u001b[0;34m\u001b[0m\u001b[0;34m\u001b[0m\u001b[0m\n\u001b[0m\u001b[1;32m    258\u001b[0m \u001b[0;34m\u001b[0m\u001b[0m\n\u001b[1;32m    259\u001b[0m         \u001b[0;31m# wrap results\u001b[0m\u001b[0;34m\u001b[0m\u001b[0;34m\u001b[0m\u001b[0;34m\u001b[0m\u001b[0m\n",
      "\u001b[0;32m~/miniconda3/envs/jlab-mrcc/lib/python3.6/site-packages/pandas/core/apply.py\u001b[0m in \u001b[0;36mapply_series_generator\u001b[0;34m(self)\u001b[0m\n\u001b[1;32m    284\u001b[0m             \u001b[0;32mtry\u001b[0m\u001b[0;34m:\u001b[0m\u001b[0;34m\u001b[0m\u001b[0;34m\u001b[0m\u001b[0m\n\u001b[1;32m    285\u001b[0m                 \u001b[0;32mfor\u001b[0m \u001b[0mi\u001b[0m\u001b[0;34m,\u001b[0m \u001b[0mv\u001b[0m \u001b[0;32min\u001b[0m \u001b[0menumerate\u001b[0m\u001b[0;34m(\u001b[0m\u001b[0mseries_gen\u001b[0m\u001b[0;34m)\u001b[0m\u001b[0;34m:\u001b[0m\u001b[0;34m\u001b[0m\u001b[0;34m\u001b[0m\u001b[0m\n\u001b[0;32m--> 286\u001b[0;31m                     \u001b[0mresults\u001b[0m\u001b[0;34m[\u001b[0m\u001b[0mi\u001b[0m\u001b[0;34m]\u001b[0m \u001b[0;34m=\u001b[0m \u001b[0mself\u001b[0m\u001b[0;34m.\u001b[0m\u001b[0mf\u001b[0m\u001b[0;34m(\u001b[0m\u001b[0mv\u001b[0m\u001b[0;34m)\u001b[0m\u001b[0;34m\u001b[0m\u001b[0;34m\u001b[0m\u001b[0m\n\u001b[0m\u001b[1;32m    287\u001b[0m                     \u001b[0mkeys\u001b[0m\u001b[0;34m.\u001b[0m\u001b[0mappend\u001b[0m\u001b[0;34m(\u001b[0m\u001b[0mv\u001b[0m\u001b[0;34m.\u001b[0m\u001b[0mname\u001b[0m\u001b[0;34m)\u001b[0m\u001b[0;34m\u001b[0m\u001b[0;34m\u001b[0m\u001b[0m\n\u001b[1;32m    288\u001b[0m             \u001b[0;32mexcept\u001b[0m \u001b[0mException\u001b[0m \u001b[0;32mas\u001b[0m \u001b[0me\u001b[0m\u001b[0;34m:\u001b[0m\u001b[0;34m\u001b[0m\u001b[0;34m\u001b[0m\u001b[0m\n",
      "\u001b[0;32m<ipython-input-9-a899e161bc7d>\u001b[0m in \u001b[0;36mmrcc_maxcontain\u001b[0;34m(row, confidence, return_ANI)\u001b[0m\n\u001b[1;32m      5\u001b[0m     \u001b[0mnum_kmers\u001b[0m \u001b[0;34m=\u001b[0m \u001b[0mrow\u001b[0m\u001b[0;34m[\u001b[0m\u001b[0;34m\"num_unique_kmers\"\u001b[0m\u001b[0;34m]\u001b[0m\u001b[0;34m\u001b[0m\u001b[0;34m\u001b[0m\u001b[0m\n\u001b[1;32m      6\u001b[0m     \u001b[0mksize\u001b[0m \u001b[0;34m=\u001b[0m \u001b[0mrow\u001b[0m\u001b[0;34m[\u001b[0m\u001b[0;34m\"ksize\"\u001b[0m\u001b[0;34m]\u001b[0m\u001b[0;34m\u001b[0m\u001b[0;34m\u001b[0m\u001b[0m\n\u001b[0;32m----> 7\u001b[0;31m     \u001b[0mmc_results\u001b[0m \u001b[0;34m=\u001b[0m \u001b[0mcompute_confidence_intervals\u001b[0m\u001b[0;34m(\u001b[0m\u001b[0;34m[\u001b[0m\u001b[0mmc\u001b[0m\u001b[0;34m]\u001b[0m\u001b[0;34m,\u001b[0m \u001b[0mnum_kmers\u001b[0m\u001b[0;34m,\u001b[0m \u001b[0mksize\u001b[0m\u001b[0;34m,\u001b[0m \u001b[0mconfidence\u001b[0m\u001b[0;34m,\u001b[0m \u001b[0mscaled_perc\u001b[0m\u001b[0;34m)\u001b[0m\u001b[0;34m[\u001b[0m\u001b[0;36m0\u001b[0m\u001b[0;34m]\u001b[0m\u001b[0;34m\u001b[0m\u001b[0;34m\u001b[0m\u001b[0m\n\u001b[0m\u001b[1;32m      8\u001b[0m     \u001b[0mpLow\u001b[0m\u001b[0;34m,\u001b[0m\u001b[0mpHigh\u001b[0m \u001b[0;34m=\u001b[0m \u001b[0mmc_results\u001b[0m\u001b[0;34m[\u001b[0m\u001b[0;36m6\u001b[0m\u001b[0;34m:\u001b[0m\u001b[0;34m]\u001b[0m\u001b[0;34m\u001b[0m\u001b[0;34m\u001b[0m\u001b[0m\n\u001b[1;32m      9\u001b[0m     \u001b[0;32mif\u001b[0m \u001b[0mreturn_ANI\u001b[0m\u001b[0;34m:\u001b[0m\u001b[0;34m\u001b[0m\u001b[0;34m\u001b[0m\u001b[0m\n",
      "\u001b[0;32m~/miniconda3/envs/jlab-mrcc/lib/python3.6/site-packages/mrcc/p_from_scaled_containment.py\u001b[0m in \u001b[0;36mcompute_confidence_intervals\u001b[0;34m(scaledContainmentsObserverved, L, k, confidence, s, debug)\u001b[0m\n\u001b[1;32m     32\u001b[0m         \u001b[0mNm_guess\u001b[0m \u001b[0;34m=\u001b[0m \u001b[0mL\u001b[0m\u001b[0;34m*\u001b[0m\u001b[0;34m(\u001b[0m\u001b[0;36m1\u001b[0m\u001b[0;34m-\u001b[0m\u001b[0mCks\u001b[0m\u001b[0;34m)\u001b[0m\u001b[0;34m\u001b[0m\u001b[0;34m\u001b[0m\u001b[0m\n\u001b[1;32m     33\u001b[0m         \u001b[0msol1_mpf\u001b[0m \u001b[0;34m=\u001b[0m \u001b[0mnewton\u001b[0m\u001b[0;34m(\u001b[0m\u001b[0mf1_mpf\u001b[0m\u001b[0;34m,\u001b[0m \u001b[0mNm_guess\u001b[0m\u001b[0;34m)\u001b[0m\u001b[0;34m\u001b[0m\u001b[0;34m\u001b[0m\u001b[0m\n\u001b[0;32m---> 34\u001b[0;31m         \u001b[0msol2_mpf\u001b[0m \u001b[0;34m=\u001b[0m \u001b[0mnewton\u001b[0m\u001b[0;34m(\u001b[0m\u001b[0mf2_mpf\u001b[0m\u001b[0;34m,\u001b[0m \u001b[0mNm_guess\u001b[0m\u001b[0;34m)\u001b[0m\u001b[0;34m\u001b[0m\u001b[0;34m\u001b[0m\u001b[0m\n\u001b[0m\u001b[1;32m     35\u001b[0m         \u001b[0;31m#if debug:\u001b[0m\u001b[0;34m\u001b[0m\u001b[0;34m\u001b[0m\u001b[0;34m\u001b[0m\u001b[0m\n\u001b[1;32m     36\u001b[0m             \u001b[0;31m#print( sol1, f1(sol1) )\u001b[0m\u001b[0;34m\u001b[0m\u001b[0;34m\u001b[0m\u001b[0;34m\u001b[0m\u001b[0m\n",
      "\u001b[0;32m~/miniconda3/envs/jlab-mrcc/lib/python3.6/site-packages/scipy/optimize/zeros.py\u001b[0m in \u001b[0;36mnewton\u001b[0;34m(func, x0, fprime, args, tol, maxiter, fprime2)\u001b[0m\n\u001b[1;32m    202\u001b[0m             \u001b[0mq0\u001b[0m \u001b[0;34m=\u001b[0m \u001b[0mq1\u001b[0m\u001b[0;34m\u001b[0m\u001b[0;34m\u001b[0m\u001b[0m\n\u001b[1;32m    203\u001b[0m             \u001b[0mp1\u001b[0m \u001b[0;34m=\u001b[0m \u001b[0mp\u001b[0m\u001b[0;34m\u001b[0m\u001b[0;34m\u001b[0m\u001b[0m\n\u001b[0;32m--> 204\u001b[0;31m             \u001b[0mq1\u001b[0m \u001b[0;34m=\u001b[0m \u001b[0mfunc\u001b[0m\u001b[0;34m(\u001b[0m\u001b[0mp1\u001b[0m\u001b[0;34m,\u001b[0m \u001b[0;34m*\u001b[0m\u001b[0margs\u001b[0m\u001b[0;34m)\u001b[0m\u001b[0;34m\u001b[0m\u001b[0;34m\u001b[0m\u001b[0m\n\u001b[0m\u001b[1;32m    205\u001b[0m     \u001b[0mmsg\u001b[0m \u001b[0;34m=\u001b[0m \u001b[0;34m\"Failed to converge after %d iterations, value is %s\"\u001b[0m \u001b[0;34m%\u001b[0m \u001b[0;34m(\u001b[0m\u001b[0mmaxiter\u001b[0m\u001b[0;34m,\u001b[0m \u001b[0mp\u001b[0m\u001b[0;34m)\u001b[0m\u001b[0;34m\u001b[0m\u001b[0;34m\u001b[0m\u001b[0m\n\u001b[1;32m    206\u001b[0m     \u001b[0;32mraise\u001b[0m \u001b[0mRuntimeError\u001b[0m\u001b[0;34m(\u001b[0m\u001b[0mmsg\u001b[0m\u001b[0;34m)\u001b[0m\u001b[0;34m\u001b[0m\u001b[0;34m\u001b[0m\u001b[0m\n",
      "\u001b[0;32m~/miniconda3/envs/jlab-mrcc/lib/python3.6/site-packages/mrcc/p_from_scaled_containment.py\u001b[0m in \u001b[0;36m<lambda>\u001b[0;34m(Nm)\u001b[0m\n\u001b[1;32m     26\u001b[0m     \u001b[0mf1_mpf\u001b[0m \u001b[0;34m=\u001b[0m \u001b[0;32mlambda\u001b[0m \u001b[0mNm\u001b[0m\u001b[0;34m:\u001b[0m \u001b[0mmpf\u001b[0m\u001b[0;34m(\u001b[0m\u001b[0mf1\u001b[0m\u001b[0;34m(\u001b[0m\u001b[0mNm\u001b[0m\u001b[0;34m)\u001b[0m\u001b[0;34m)\u001b[0m\u001b[0;34m\u001b[0m\u001b[0;34m\u001b[0m\u001b[0m\n\u001b[1;32m     27\u001b[0m     \u001b[0mf2\u001b[0m \u001b[0;34m=\u001b[0m \u001b[0;32mlambda\u001b[0m \u001b[0mNm\u001b[0m\u001b[0;34m:\u001b[0m \u001b[0;36m1\u001b[0m\u001b[0;34m-\u001b[0m\u001b[0;36m1.0\u001b[0m\u001b[0;34m*\u001b[0m\u001b[0mNm\u001b[0m\u001b[0;34m/\u001b[0m\u001b[0mL\u001b[0m \u001b[0;34m-\u001b[0m \u001b[0mz_alpha\u001b[0m\u001b[0;34m*\u001b[0m\u001b[0msqrt\u001b[0m\u001b[0;34m(\u001b[0m \u001b[0;36m1.0\u001b[0m\u001b[0;34m*\u001b[0m\u001b[0mNm\u001b[0m\u001b[0;34m*\u001b[0m\u001b[0;34m(\u001b[0m\u001b[0mL\u001b[0m\u001b[0;34m-\u001b[0m\u001b[0mNm\u001b[0m\u001b[0;34m)\u001b[0m\u001b[0;34m*\u001b[0m\u001b[0;34m(\u001b[0m\u001b[0;36m1\u001b[0m\u001b[0;34m-\u001b[0m\u001b[0ms\u001b[0m\u001b[0;34m)\u001b[0m\u001b[0;34m/\u001b[0m\u001b[0;34m(\u001b[0m\u001b[0ms\u001b[0m \u001b[0;34m*\u001b[0m \u001b[0mL\u001b[0m\u001b[0;34m**\u001b[0m\u001b[0;36m3\u001b[0m\u001b[0;34m)\u001b[0m \u001b[0;34m)\u001b[0m \u001b[0;34m-\u001b[0m \u001b[0mCks\u001b[0m\u001b[0;34m\u001b[0m\u001b[0;34m\u001b[0m\u001b[0m\n\u001b[0;32m---> 28\u001b[0;31m     \u001b[0mf2_mpf\u001b[0m \u001b[0;34m=\u001b[0m \u001b[0;32mlambda\u001b[0m \u001b[0mNm\u001b[0m\u001b[0;34m:\u001b[0m \u001b[0mmpf\u001b[0m\u001b[0;34m(\u001b[0m\u001b[0mf2\u001b[0m\u001b[0;34m(\u001b[0m\u001b[0mNm\u001b[0m\u001b[0;34m)\u001b[0m\u001b[0;34m)\u001b[0m\u001b[0;34m\u001b[0m\u001b[0;34m\u001b[0m\u001b[0m\n\u001b[0m\u001b[1;32m     29\u001b[0m \u001b[0;34m\u001b[0m\u001b[0m\n\u001b[1;32m     30\u001b[0m     \u001b[0mall_results\u001b[0m \u001b[0;34m=\u001b[0m \u001b[0;34m[\u001b[0m\u001b[0;34m]\u001b[0m\u001b[0;34m\u001b[0m\u001b[0;34m\u001b[0m\u001b[0m\n",
      "\u001b[0;32m~/miniconda3/envs/jlab-mrcc/lib/python3.6/site-packages/mpmath/ctx_mp_python.py\u001b[0m in \u001b[0;36m__new__\u001b[0;34m(cls, val, **kwargs)\u001b[0m\n\u001b[1;32m     75\u001b[0m         \u001b[0;32melse\u001b[0m\u001b[0;34m:\u001b[0m\u001b[0;34m\u001b[0m\u001b[0;34m\u001b[0m\u001b[0m\n\u001b[1;32m     76\u001b[0m             \u001b[0mv\u001b[0m \u001b[0;34m=\u001b[0m \u001b[0mnew\u001b[0m\u001b[0;34m(\u001b[0m\u001b[0mcls\u001b[0m\u001b[0;34m)\u001b[0m\u001b[0;34m\u001b[0m\u001b[0;34m\u001b[0m\u001b[0m\n\u001b[0;32m---> 77\u001b[0;31m             \u001b[0mv\u001b[0m\u001b[0;34m.\u001b[0m\u001b[0m_mpf_\u001b[0m \u001b[0;34m=\u001b[0m \u001b[0mmpf_pos\u001b[0m\u001b[0;34m(\u001b[0m\u001b[0mcls\u001b[0m\u001b[0;34m.\u001b[0m\u001b[0mmpf_convert_arg\u001b[0m\u001b[0;34m(\u001b[0m\u001b[0mval\u001b[0m\u001b[0;34m,\u001b[0m \u001b[0mprec\u001b[0m\u001b[0;34m,\u001b[0m \u001b[0mrounding\u001b[0m\u001b[0;34m)\u001b[0m\u001b[0;34m,\u001b[0m \u001b[0mprec\u001b[0m\u001b[0;34m,\u001b[0m \u001b[0mrounding\u001b[0m\u001b[0;34m)\u001b[0m\u001b[0;34m\u001b[0m\u001b[0;34m\u001b[0m\u001b[0m\n\u001b[0m\u001b[1;32m     78\u001b[0m             \u001b[0;32mreturn\u001b[0m \u001b[0mv\u001b[0m\u001b[0;34m\u001b[0m\u001b[0;34m\u001b[0m\u001b[0m\n\u001b[1;32m     79\u001b[0m \u001b[0;34m\u001b[0m\u001b[0m\n",
      "\u001b[0;32m~/miniconda3/envs/jlab-mrcc/lib/python3.6/site-packages/mpmath/ctx_mp_python.py\u001b[0m in \u001b[0;36mmpf_convert_arg\u001b[0;34m(cls, x, prec, rounding)\u001b[0m\n\u001b[1;32m     94\u001b[0m                 \u001b[0;32mreturn\u001b[0m \u001b[0ma\u001b[0m\u001b[0;34m\u001b[0m\u001b[0;34m\u001b[0m\u001b[0m\n\u001b[1;32m     95\u001b[0m             \u001b[0;32mraise\u001b[0m \u001b[0mValueError\u001b[0m\u001b[0;34m(\u001b[0m\u001b[0;34m\"can only create mpf from zero-width interval\"\u001b[0m\u001b[0;34m)\u001b[0m\u001b[0;34m\u001b[0m\u001b[0;34m\u001b[0m\u001b[0m\n\u001b[0;32m---> 96\u001b[0;31m         \u001b[0;32mraise\u001b[0m \u001b[0mTypeError\u001b[0m\u001b[0;34m(\u001b[0m\u001b[0;34m\"cannot create mpf from \"\u001b[0m \u001b[0;34m+\u001b[0m \u001b[0mrepr\u001b[0m\u001b[0;34m(\u001b[0m\u001b[0mx\u001b[0m\u001b[0;34m)\u001b[0m\u001b[0;34m)\u001b[0m\u001b[0;34m\u001b[0m\u001b[0;34m\u001b[0m\u001b[0m\n\u001b[0m\u001b[1;32m     97\u001b[0m \u001b[0;34m\u001b[0m\u001b[0m\n\u001b[1;32m     98\u001b[0m     \u001b[0;34m@\u001b[0m\u001b[0mclassmethod\u001b[0m\u001b[0;34m\u001b[0m\u001b[0;34m\u001b[0m\u001b[0m\n",
      "\u001b[0;31mTypeError\u001b[0m: (\"cannot create mpf from mpc(real='-0.00348803037430721399437575587078819790990038705147875', imag='-0.0016112491358384129670216132400565549155284115430919072')\", 'occurred at index 9622')"
     ]
    }
   ],
   "source": [
    "# to run p_from_scaled_containment on full dataframe\n",
    "fullDF = simDF.apply(mrcc_maxcontain, axis=1)\n",
    "fullDF.head()"
   ]
  },
  {
   "cell_type": "code",
   "execution_count": 15,
   "id": "28dcffd5-2bf1-4305-b592-31d70bdcb425",
   "metadata": {},
   "outputs": [
    {
     "data": {
      "text/plain": [
       "comparison_name          data-d0.15-f1-nogam-seed107\n",
       "sig1_name           data-d0.15-f1-nogam-seed107-seq1\n",
       "sig2_name           data-d0.15-f1-nogam-seed107-seq2\n",
       "alphabet                                         dna\n",
       "ksize                                             51\n",
       "scaled                                          1000\n",
       "jaccard                                  0.000103734\n",
       "max_containment                          0.000212044\n",
       "sig1_containment                         0.000212044\n",
       "sig2_containment                                   1\n",
       "sig1_hashes                                     4716\n",
       "sig2_hashes                                     4925\n",
       "num_common                                         1\n",
       "alpha-ksize                                   dna-51\n",
       "num_unique_kmers                         4.85846e+06\n",
       "true p-distance                             0.134357\n",
       "Name: 9622, dtype: object"
      ]
     },
     "execution_count": 15,
     "metadata": {},
     "output_type": "execute_result"
    }
   ],
   "source": [
    "simDF.iloc[9622]"
   ]
  },
  {
   "cell_type": "code",
   "execution_count": null,
   "id": "12b82b99-b466-4e20-b2db-14b11d412095",
   "metadata": {},
   "outputs": [],
   "source": [
    "fullDF.to_csv(\"../data/simreads-compare.dnainput.mrcc.csv.gz\")"
   ]
  }
 ],
 "metadata": {
  "kernelspec": {
   "display_name": "Python 3",
   "language": "python",
   "name": "python3"
  },
  "language_info": {
   "codemirror_mode": {
    "name": "ipython",
    "version": 3
   },
   "file_extension": ".py",
   "mimetype": "text/x-python",
   "name": "python",
   "nbconvert_exporter": "python",
   "pygments_lexer": "ipython3",
   "version": "3.6.13"
  }
 },
 "nbformat": 4,
 "nbformat_minor": 5
}
