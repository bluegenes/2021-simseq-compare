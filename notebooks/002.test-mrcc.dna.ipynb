{
 "cells": [
  {
   "cell_type": "code",
   "execution_count": 1,
   "id": "a40070d1-4559-40dc-8203-df9838915bcf",
   "metadata": {},
   "outputs": [],
   "source": [
    "import os\n",
    "import sys\n",
    "import glob\n",
    "import pandas as pd\n",
    "import seaborn as sns\n",
    "import numpy as np\n",
    "import matplotlib.pyplot as plt\n",
    "\n",
    "import mrcc\n",
    "from mrcc.p_from_scaled_containment import compute_confidence_intervals\n",
    "\n",
    "sns.set_context(\"paper\")"
   ]
  },
  {
   "cell_type": "code",
   "execution_count": 2,
   "id": "2c14bb6c-1080-48ab-9094-acc86951d164",
   "metadata": {},
   "outputs": [
    {
     "data": {
      "text/plain": [
       "'0.24.2'"
      ]
     },
     "execution_count": 2,
     "metadata": {},
     "output_type": "execute_result"
    }
   ],
   "source": [
    "pd.__version__"
   ]
  },
  {
   "cell_type": "markdown",
   "id": "f5c16bd2-5553-4729-ade8-0a174c1f548c",
   "metadata": {},
   "source": [
    "## Run the Test Data with mrcc.p_from_scaled_containment"
   ]
  },
  {
   "cell_type": "code",
   "execution_count": 3,
   "id": "53b14294-7648-4b52-8a85-f20ec5352274",
   "metadata": {},
   "outputs": [
    {
     "name": "stdout",
     "output_type": "stream",
     "text": [
      "L\tk\tconf\tCks\tCLow\tCHigh\tpLow\tpHigh\n",
      "100000\t21\t0.95\t0.10605\t0.10046\t0.11191\t0.09623\t0.10655\n"
     ]
    }
   ],
   "source": [
    "%%bash\n",
    "# run on command line\n",
    "python -m mrcc.p_from_scaled_containment -L 100K -k 21 -c 0.95 --sccon 0.10605"
   ]
  },
  {
   "cell_type": "code",
   "execution_count": 4,
   "id": "29505461-4efc-4ee4-b433-e84f7c11db9c",
   "metadata": {},
   "outputs": [
    {
     "data": {
      "text/plain": [
       "[[100000,\n",
       "  21,\n",
       "  0.95,\n",
       "  0.10605,\n",
       "  mpf('0.10046044759723280359624752115346686087576683874616503'),\n",
       "  mpf('0.11191185994396290217198335874293883856388369710875699'),\n",
       "  mpf('0.096230875654655218913692892163753654980695714457937173'),\n",
       "  mpf('0.10655865394035779037648078551123905678368667103072806')]]"
      ]
     },
     "execution_count": 4,
     "metadata": {},
     "output_type": "execute_result"
    }
   ],
   "source": [
    "# run the same within python:\n",
    "\n",
    "num_unique_kmers = 100000\n",
    "ksize = 21\n",
    "confidence=0.95\n",
    "observed_containment=[0.10605]\n",
    "scaled=0.1\n",
    "compute_confidence_intervals(observed_containment, num_unique_kmers, ksize, confidence, scaled)"
   ]
  },
  {
   "cell_type": "markdown",
   "id": "3c33f66c-6c27-4446-8228-8d5857cf1c48",
   "metadata": {},
   "source": [
    "# Import Preprocessed Simulated Read Data"
   ]
  },
  {
   "cell_type": "code",
   "execution_count": 5,
   "id": "2396c8c6-3d5a-4be3-818d-791475eb25f7",
   "metadata": {},
   "outputs": [
    {
     "name": "stdout",
     "output_type": "stream",
     "text": [
      "simreads-compare.dnainput.csv.gz\n",
      "simreads-compare.dnainput.processed.csv.gz\n"
     ]
    },
    {
     "name": "stderr",
     "output_type": "stream",
     "text": [
      "  % Total    % Received % Xferd  Average Speed   Time    Time     Time  Current\n",
      "                                 Dload  Upload   Total   Spent    Left  Speed\n",
      "100   459  100   459    0     0    984      0 --:--:-- --:--:-- --:--:--   984\n",
      "100 7421k  100 7421k    0     0  2569k      0  0:00:02  0:00:02 --:--:-- 6113k\n"
     ]
    }
   ],
   "source": [
    "%%bash\n",
    "mkdir -p ../data\n",
    "curl -L https://osf.io/f4a9k/download -o ../data/simreads-compare.dnainput.processed.csv.gz\n",
    "ls ../data"
   ]
  },
  {
   "cell_type": "code",
   "execution_count": 6,
   "id": "9f6fee00-c0c8-4cb9-900e-aa156f6b58e4",
   "metadata": {},
   "outputs": [
    {
     "data": {
      "text/html": [
       "<div>\n",
       "<style scoped>\n",
       "    .dataframe tbody tr th:only-of-type {\n",
       "        vertical-align: middle;\n",
       "    }\n",
       "\n",
       "    .dataframe tbody tr th {\n",
       "        vertical-align: top;\n",
       "    }\n",
       "\n",
       "    .dataframe thead th {\n",
       "        text-align: right;\n",
       "    }\n",
       "</style>\n",
       "<table border=\"1\" class=\"dataframe\">\n",
       "  <thead>\n",
       "    <tr style=\"text-align: right;\">\n",
       "      <th></th>\n",
       "      <th>comparison_name</th>\n",
       "      <th>sig1_name</th>\n",
       "      <th>sig2_name</th>\n",
       "      <th>alphabet</th>\n",
       "      <th>ksize</th>\n",
       "      <th>scaled</th>\n",
       "      <th>jaccard</th>\n",
       "      <th>max_containment</th>\n",
       "      <th>sig1_containment</th>\n",
       "      <th>sig2_containment</th>\n",
       "      <th>sig1_hashes</th>\n",
       "      <th>sig2_hashes</th>\n",
       "      <th>num_common</th>\n",
       "      <th>alpha-ksize</th>\n",
       "      <th>num_unique_kmers</th>\n",
       "      <th>true p-distance</th>\n",
       "    </tr>\n",
       "  </thead>\n",
       "  <tbody>\n",
       "    <tr>\n",
       "      <th>0</th>\n",
       "      <td>data-d0.05-f1-nogam-seed36</td>\n",
       "      <td>data-d0.05-f1-nogam-seed36-seq1</td>\n",
       "      <td>data-d0.05-f1-nogam-seed36-seq2</td>\n",
       "      <td>dna</td>\n",
       "      <td>21</td>\n",
       "      <td>1</td>\n",
       "      <td>0.190577</td>\n",
       "      <td>0.320984</td>\n",
       "      <td>0.319303</td>\n",
       "      <td>1.0</td>\n",
       "      <td>4993153</td>\n",
       "      <td>4967010</td>\n",
       "      <td>1594331</td>\n",
       "      <td>dna-21</td>\n",
       "      <td>4980081.5</td>\n",
       "      <td>0.047995</td>\n",
       "    </tr>\n",
       "    <tr>\n",
       "      <th>1</th>\n",
       "      <td>data-d0.05-f1-nogam-seed36</td>\n",
       "      <td>data-d0.05-f1-nogam-seed36-seq1</td>\n",
       "      <td>data-d0.05-f1-nogam-seed36-seq2</td>\n",
       "      <td>dna</td>\n",
       "      <td>21</td>\n",
       "      <td>100</td>\n",
       "      <td>0.192184</td>\n",
       "      <td>0.322739</td>\n",
       "      <td>0.322739</td>\n",
       "      <td>1.0</td>\n",
       "      <td>49616</td>\n",
       "      <td>49718</td>\n",
       "      <td>16013</td>\n",
       "      <td>dna-21</td>\n",
       "      <td>4980081.5</td>\n",
       "      <td>0.047995</td>\n",
       "    </tr>\n",
       "    <tr>\n",
       "      <th>2</th>\n",
       "      <td>data-d0.05-f1-nogam-seed36</td>\n",
       "      <td>data-d0.05-f1-nogam-seed36-seq1</td>\n",
       "      <td>data-d0.05-f1-nogam-seed36-seq2</td>\n",
       "      <td>dna</td>\n",
       "      <td>21</td>\n",
       "      <td>1000</td>\n",
       "      <td>0.197087</td>\n",
       "      <td>0.332343</td>\n",
       "      <td>0.326269</td>\n",
       "      <td>1.0</td>\n",
       "      <td>5143</td>\n",
       "      <td>5049</td>\n",
       "      <td>1678</td>\n",
       "      <td>dna-21</td>\n",
       "      <td>4980081.5</td>\n",
       "      <td>0.047995</td>\n",
       "    </tr>\n",
       "    <tr>\n",
       "      <th>3</th>\n",
       "      <td>data-d0.05-f1-nogam-seed36</td>\n",
       "      <td>data-d0.05-f1-nogam-seed36-seq1</td>\n",
       "      <td>data-d0.05-f1-nogam-seed36-seq2</td>\n",
       "      <td>dna</td>\n",
       "      <td>21</td>\n",
       "      <td>2000</td>\n",
       "      <td>0.201250</td>\n",
       "      <td>0.338455</td>\n",
       "      <td>0.331748</td>\n",
       "      <td>1.0</td>\n",
       "      <td>2523</td>\n",
       "      <td>2473</td>\n",
       "      <td>837</td>\n",
       "      <td>dna-21</td>\n",
       "      <td>4980081.5</td>\n",
       "      <td>0.047995</td>\n",
       "    </tr>\n",
       "    <tr>\n",
       "      <th>4</th>\n",
       "      <td>data-d0.05-f1-nogam-seed36</td>\n",
       "      <td>data-d0.05-f1-nogam-seed36-seq1</td>\n",
       "      <td>data-d0.05-f1-nogam-seed36-seq2</td>\n",
       "      <td>dna</td>\n",
       "      <td>31</td>\n",
       "      <td>1</td>\n",
       "      <td>0.107025</td>\n",
       "      <td>0.193865</td>\n",
       "      <td>0.192850</td>\n",
       "      <td>1.0</td>\n",
       "      <td>4993150</td>\n",
       "      <td>4967004</td>\n",
       "      <td>962929</td>\n",
       "      <td>dna-31</td>\n",
       "      <td>4980077.0</td>\n",
       "      <td>0.047995</td>\n",
       "    </tr>\n",
       "  </tbody>\n",
       "</table>\n",
       "</div>"
      ],
      "text/plain": [
       "              comparison_name                        sig1_name  \\\n",
       "0  data-d0.05-f1-nogam-seed36  data-d0.05-f1-nogam-seed36-seq1   \n",
       "1  data-d0.05-f1-nogam-seed36  data-d0.05-f1-nogam-seed36-seq1   \n",
       "2  data-d0.05-f1-nogam-seed36  data-d0.05-f1-nogam-seed36-seq1   \n",
       "3  data-d0.05-f1-nogam-seed36  data-d0.05-f1-nogam-seed36-seq1   \n",
       "4  data-d0.05-f1-nogam-seed36  data-d0.05-f1-nogam-seed36-seq1   \n",
       "\n",
       "                         sig2_name alphabet  ksize  scaled   jaccard  \\\n",
       "0  data-d0.05-f1-nogam-seed36-seq2      dna     21       1  0.190577   \n",
       "1  data-d0.05-f1-nogam-seed36-seq2      dna     21     100  0.192184   \n",
       "2  data-d0.05-f1-nogam-seed36-seq2      dna     21    1000  0.197087   \n",
       "3  data-d0.05-f1-nogam-seed36-seq2      dna     21    2000  0.201250   \n",
       "4  data-d0.05-f1-nogam-seed36-seq2      dna     31       1  0.107025   \n",
       "\n",
       "   max_containment  sig1_containment  sig2_containment  sig1_hashes  \\\n",
       "0         0.320984          0.319303               1.0      4993153   \n",
       "1         0.322739          0.322739               1.0        49616   \n",
       "2         0.332343          0.326269               1.0         5143   \n",
       "3         0.338455          0.331748               1.0         2523   \n",
       "4         0.193865          0.192850               1.0      4993150   \n",
       "\n",
       "   sig2_hashes  num_common alpha-ksize  num_unique_kmers  true p-distance  \n",
       "0      4967010     1594331      dna-21         4980081.5         0.047995  \n",
       "1        49718       16013      dna-21         4980081.5         0.047995  \n",
       "2         5049        1678      dna-21         4980081.5         0.047995  \n",
       "3         2473         837      dna-21         4980081.5         0.047995  \n",
       "4      4967004      962929      dna-31         4980077.0         0.047995  "
      ]
     },
     "execution_count": 6,
     "metadata": {},
     "output_type": "execute_result"
    }
   ],
   "source": [
    "simDF = pd.read_csv(\"../data/simreads-compare.dnainput.processed.csv.gz\")\n",
    "simDF.head()"
   ]
  },
  {
   "cell_type": "markdown",
   "id": "8c01de4e-7121-4b48-adab-1796f12ee70f",
   "metadata": {},
   "source": [
    "### Try mrcc to estimate p from scaled containment"
   ]
  },
  {
   "cell_type": "code",
   "execution_count": 7,
   "id": "dd7a1b4d-0f89-4676-9c59-9fc2075cda6a",
   "metadata": {},
   "outputs": [
    {
     "data": {
      "text/plain": [
       "[[4980082,\n",
       "  21,\n",
       "  0.95,\n",
       "  0.15,\n",
       "  mpf('0.14999999999999999444888487686254876590750012202087263'),\n",
       "  mpf('0.14999999999999999444888487686254876590750012202087263'),\n",
       "  mpf('0.086029293757747733324986672462756862017384574114587125'),\n",
       "  mpf('0.086727763485780570661175122091158370967137886855135461')]]"
      ]
     },
     "execution_count": 7,
     "metadata": {},
     "output_type": "execute_result"
    }
   ],
   "source": [
    "# works with containment <=0.15, not above?\n",
    "num_unique_kmers=4980082\n",
    "ksize=21\n",
    "confidence=0.95\n",
    "scaled=1.0\n",
    "observed_containment=[0.15]\n",
    "\n",
    "compute_confidence_intervals(observed_containment, num_unique_kmers, ksize, confidence, scaled)"
   ]
  },
  {
   "cell_type": "code",
   "execution_count": 8,
   "id": "cb7d7cc4-2f04-4f4e-8094-10288a704f22",
   "metadata": {},
   "outputs": [
    {
     "ename": "AssertionError",
     "evalue": "",
     "output_type": "error",
     "traceback": [
      "\u001b[0;31m---------------------------------------------------------------------------\u001b[0m",
      "\u001b[0;31mAssertionError\u001b[0m                            Traceback (most recent call last)",
      "\u001b[0;32m<ipython-input-8-a06c91b6c870>\u001b[0m in \u001b[0;36m<module>\u001b[0;34m\u001b[0m\n\u001b[1;32m      6\u001b[0m \u001b[0mobserved_containment\u001b[0m\u001b[0;34m=\u001b[0m\u001b[0;34m[\u001b[0m\u001b[0;36m0.320984\u001b[0m\u001b[0;34m]\u001b[0m\u001b[0;34m\u001b[0m\u001b[0;34m\u001b[0m\u001b[0m\n\u001b[1;32m      7\u001b[0m \u001b[0;34m\u001b[0m\u001b[0m\n\u001b[0;32m----> 8\u001b[0;31m \u001b[0mcompute_confidence_intervals\u001b[0m\u001b[0;34m(\u001b[0m\u001b[0mobserved_containment\u001b[0m\u001b[0;34m,\u001b[0m \u001b[0mnum_unique_kmers\u001b[0m\u001b[0;34m,\u001b[0m \u001b[0mksize\u001b[0m\u001b[0;34m,\u001b[0m \u001b[0mconfidence\u001b[0m\u001b[0;34m,\u001b[0m \u001b[0mscaled\u001b[0m\u001b[0;34m)\u001b[0m\u001b[0;34m\u001b[0m\u001b[0;34m\u001b[0m\u001b[0m\n\u001b[0m",
      "\u001b[0;32m~/miniconda3/envs/jlab-mrcc/lib/python3.6/site-packages/mrcc/p_from_scaled_containment.py\u001b[0m in \u001b[0;36mcompute_confidence_intervals\u001b[0;34m(scaledContainmentsObserverved, L, k, confidence, s, debug)\u001b[0m\n\u001b[1;32m     50\u001b[0m         \u001b[0mf4\u001b[0m \u001b[0;34m=\u001b[0m \u001b[0;32mlambda\u001b[0m \u001b[0mpest\u001b[0m\u001b[0;34m:\u001b[0m \u001b[0mmpf\u001b[0m\u001b[0;34m(\u001b[0m\u001b[0;34m(\u001b[0m\u001b[0;36m1\u001b[0m\u001b[0;34m-\u001b[0m\u001b[0mpest\u001b[0m\u001b[0;34m)\u001b[0m\u001b[0;34m**\u001b[0m\u001b[0mk\u001b[0m \u001b[0;34m-\u001b[0m \u001b[0mz_alpha\u001b[0m\u001b[0;34m*\u001b[0m\u001b[0msqrt\u001b[0m\u001b[0;34m(\u001b[0m \u001b[0mthm5\u001b[0m\u001b[0;34m.\u001b[0m\u001b[0mvar_n_mutated\u001b[0m\u001b[0;34m(\u001b[0m\u001b[0mL\u001b[0m\u001b[0;34m,\u001b[0m\u001b[0mk\u001b[0m\u001b[0;34m,\u001b[0m\u001b[0mpest\u001b[0m\u001b[0;34m)\u001b[0m \u001b[0;34m)\u001b[0m \u001b[0;34m/\u001b[0m \u001b[0mL\u001b[0m \u001b[0;34m-\u001b[0m \u001b[0mChigh\u001b[0m\u001b[0;34m)\u001b[0m\u001b[0;34m\u001b[0m\u001b[0;34m\u001b[0m\u001b[0m\n\u001b[1;32m     51\u001b[0m \u001b[0;34m\u001b[0m\u001b[0m\n\u001b[0;32m---> 52\u001b[0;31m         \u001b[0mphigh\u001b[0m \u001b[0;34m=\u001b[0m \u001b[0mnewton\u001b[0m\u001b[0;34m(\u001b[0m\u001b[0mf3\u001b[0m\u001b[0;34m,\u001b[0m \u001b[0mClow\u001b[0m\u001b[0;34m)\u001b[0m\u001b[0;34m\u001b[0m\u001b[0;34m\u001b[0m\u001b[0m\n\u001b[0m\u001b[1;32m     53\u001b[0m         \u001b[0mplow\u001b[0m \u001b[0;34m=\u001b[0m \u001b[0mnewton\u001b[0m\u001b[0;34m(\u001b[0m\u001b[0mf4\u001b[0m\u001b[0;34m,\u001b[0m \u001b[0mChigh\u001b[0m\u001b[0;34m)\u001b[0m\u001b[0;34m\u001b[0m\u001b[0;34m\u001b[0m\u001b[0m\n\u001b[1;32m     54\u001b[0m \u001b[0;34m\u001b[0m\u001b[0m\n",
      "\u001b[0;32m~/miniconda3/envs/jlab-mrcc/lib/python3.6/site-packages/scipy/optimize/zeros.py\u001b[0m in \u001b[0;36mnewton\u001b[0;34m(func, x0, fprime, args, tol, maxiter, fprime2)\u001b[0m\n\u001b[1;32m    202\u001b[0m             \u001b[0mq0\u001b[0m \u001b[0;34m=\u001b[0m \u001b[0mq1\u001b[0m\u001b[0;34m\u001b[0m\u001b[0;34m\u001b[0m\u001b[0m\n\u001b[1;32m    203\u001b[0m             \u001b[0mp1\u001b[0m \u001b[0;34m=\u001b[0m \u001b[0mp\u001b[0m\u001b[0;34m\u001b[0m\u001b[0;34m\u001b[0m\u001b[0m\n\u001b[0;32m--> 204\u001b[0;31m             \u001b[0mq1\u001b[0m \u001b[0;34m=\u001b[0m \u001b[0mfunc\u001b[0m\u001b[0;34m(\u001b[0m\u001b[0mp1\u001b[0m\u001b[0;34m,\u001b[0m \u001b[0;34m*\u001b[0m\u001b[0margs\u001b[0m\u001b[0;34m)\u001b[0m\u001b[0;34m\u001b[0m\u001b[0;34m\u001b[0m\u001b[0m\n\u001b[0m\u001b[1;32m    205\u001b[0m     \u001b[0mmsg\u001b[0m \u001b[0;34m=\u001b[0m \u001b[0;34m\"Failed to converge after %d iterations, value is %s\"\u001b[0m \u001b[0;34m%\u001b[0m \u001b[0;34m(\u001b[0m\u001b[0mmaxiter\u001b[0m\u001b[0;34m,\u001b[0m \u001b[0mp\u001b[0m\u001b[0;34m)\u001b[0m\u001b[0;34m\u001b[0m\u001b[0;34m\u001b[0m\u001b[0m\n\u001b[1;32m    206\u001b[0m     \u001b[0;32mraise\u001b[0m \u001b[0mRuntimeError\u001b[0m\u001b[0;34m(\u001b[0m\u001b[0mmsg\u001b[0m\u001b[0;34m)\u001b[0m\u001b[0;34m\u001b[0m\u001b[0;34m\u001b[0m\u001b[0m\n",
      "\u001b[0;32m~/miniconda3/envs/jlab-mrcc/lib/python3.6/site-packages/mrcc/p_from_scaled_containment.py\u001b[0m in \u001b[0;36m<lambda>\u001b[0;34m(pest)\u001b[0m\n\u001b[1;32m     47\u001b[0m         \u001b[0mChigh\u001b[0m \u001b[0;34m=\u001b[0m \u001b[0;36m1\u001b[0m\u001b[0;34m-\u001b[0m\u001b[0;36m1.0\u001b[0m\u001b[0;34m*\u001b[0m\u001b[0msol2\u001b[0m\u001b[0;34m/\u001b[0m\u001b[0mL\u001b[0m\u001b[0;34m\u001b[0m\u001b[0;34m\u001b[0m\u001b[0m\n\u001b[1;32m     48\u001b[0m \u001b[0;34m\u001b[0m\u001b[0m\n\u001b[0;32m---> 49\u001b[0;31m         \u001b[0mf3\u001b[0m \u001b[0;34m=\u001b[0m \u001b[0;32mlambda\u001b[0m \u001b[0mpest\u001b[0m\u001b[0;34m:\u001b[0m \u001b[0mmpf\u001b[0m\u001b[0;34m(\u001b[0m\u001b[0;34m(\u001b[0m\u001b[0;36m1\u001b[0m\u001b[0;34m-\u001b[0m\u001b[0mpest\u001b[0m\u001b[0;34m)\u001b[0m\u001b[0;34m**\u001b[0m\u001b[0mk\u001b[0m \u001b[0;34m+\u001b[0m \u001b[0mz_alpha\u001b[0m\u001b[0;34m*\u001b[0m\u001b[0msqrt\u001b[0m\u001b[0;34m(\u001b[0m \u001b[0mthm5\u001b[0m\u001b[0;34m.\u001b[0m\u001b[0mvar_n_mutated\u001b[0m\u001b[0;34m(\u001b[0m\u001b[0mL\u001b[0m\u001b[0;34m,\u001b[0m\u001b[0mk\u001b[0m\u001b[0;34m,\u001b[0m\u001b[0mpest\u001b[0m\u001b[0;34m)\u001b[0m \u001b[0;34m)\u001b[0m \u001b[0;34m/\u001b[0m \u001b[0mL\u001b[0m \u001b[0;34m-\u001b[0m \u001b[0mClow\u001b[0m\u001b[0;34m)\u001b[0m\u001b[0;34m\u001b[0m\u001b[0;34m\u001b[0m\u001b[0m\n\u001b[0m\u001b[1;32m     50\u001b[0m         \u001b[0mf4\u001b[0m \u001b[0;34m=\u001b[0m \u001b[0;32mlambda\u001b[0m \u001b[0mpest\u001b[0m\u001b[0;34m:\u001b[0m \u001b[0mmpf\u001b[0m\u001b[0;34m(\u001b[0m\u001b[0;34m(\u001b[0m\u001b[0;36m1\u001b[0m\u001b[0;34m-\u001b[0m\u001b[0mpest\u001b[0m\u001b[0;34m)\u001b[0m\u001b[0;34m**\u001b[0m\u001b[0mk\u001b[0m \u001b[0;34m-\u001b[0m \u001b[0mz_alpha\u001b[0m\u001b[0;34m*\u001b[0m\u001b[0msqrt\u001b[0m\u001b[0;34m(\u001b[0m \u001b[0mthm5\u001b[0m\u001b[0;34m.\u001b[0m\u001b[0mvar_n_mutated\u001b[0m\u001b[0;34m(\u001b[0m\u001b[0mL\u001b[0m\u001b[0;34m,\u001b[0m\u001b[0mk\u001b[0m\u001b[0;34m,\u001b[0m\u001b[0mpest\u001b[0m\u001b[0;34m)\u001b[0m \u001b[0;34m)\u001b[0m \u001b[0;34m/\u001b[0m \u001b[0mL\u001b[0m \u001b[0;34m-\u001b[0m \u001b[0mChigh\u001b[0m\u001b[0;34m)\u001b[0m\u001b[0;34m\u001b[0m\u001b[0;34m\u001b[0m\u001b[0m\n\u001b[1;32m     51\u001b[0m \u001b[0;34m\u001b[0m\u001b[0m\n",
      "\u001b[0;32m~/miniconda3/envs/jlab-mrcc/lib/python3.6/site-packages/mrcc/kmer_mutation_formulas_thm5.py\u001b[0m in \u001b[0;36mvar_n_mutated\u001b[0;34m(L, k, r1, q)\u001b[0m\n\u001b[1;32m     74\u001b[0m              \u001b[0;34m+\u001b[0m \u001b[0mk\u001b[0m\u001b[0;34m*\u001b[0m\u001b[0;34m(\u001b[0m\u001b[0mk\u001b[0m\u001b[0;34m-\u001b[0m\u001b[0;36m1\u001b[0m\u001b[0;34m)\u001b[0m\u001b[0;34m*\u001b[0m\u001b[0;34m(\u001b[0m\u001b[0;36m1\u001b[0m\u001b[0;34m-\u001b[0m\u001b[0mq\u001b[0m\u001b[0;34m)\u001b[0m\u001b[0;34m**\u001b[0m\u001b[0;36m2\u001b[0m\u001b[0;31m \u001b[0m\u001b[0;31m\\\u001b[0m\u001b[0;34m\u001b[0m\u001b[0;34m\u001b[0m\u001b[0m\n\u001b[1;32m     75\u001b[0m              \u001b[0;34m+\u001b[0m \u001b[0;34m(\u001b[0m\u001b[0;36m2\u001b[0m\u001b[0;34m*\u001b[0m\u001b[0;34m(\u001b[0m\u001b[0;36m1\u001b[0m\u001b[0;34m-\u001b[0m\u001b[0mq\u001b[0m\u001b[0;34m)\u001b[0m\u001b[0;34m/\u001b[0m\u001b[0;34m(\u001b[0m\u001b[0mr1\u001b[0m\u001b[0;34m**\u001b[0m\u001b[0;36m2\u001b[0m\u001b[0;34m)\u001b[0m\u001b[0;34m)\u001b[0m\u001b[0;34m*\u001b[0m\u001b[0;34m(\u001b[0m\u001b[0;34m(\u001b[0m\u001b[0;36m1\u001b[0m\u001b[0;34m+\u001b[0m\u001b[0;34m(\u001b[0m\u001b[0mk\u001b[0m\u001b[0;34m-\u001b[0m\u001b[0;36m1\u001b[0m\u001b[0;34m)\u001b[0m\u001b[0;34m*\u001b[0m\u001b[0;34m(\u001b[0m\u001b[0;36m1\u001b[0m\u001b[0;34m-\u001b[0m\u001b[0mq\u001b[0m\u001b[0;34m)\u001b[0m\u001b[0;34m)\u001b[0m\u001b[0;34m*\u001b[0m\u001b[0mr1\u001b[0m\u001b[0;34m-\u001b[0m\u001b[0mq\u001b[0m\u001b[0;34m)\u001b[0m\u001b[0;34m\u001b[0m\u001b[0;34m\u001b[0m\u001b[0m\n\u001b[0;32m---> 76\u001b[0;31m         \u001b[0;32massert\u001b[0m \u001b[0;34m(\u001b[0m\u001b[0mvarN\u001b[0m\u001b[0;34m>=\u001b[0m\u001b[0;36m0.0\u001b[0m\u001b[0;34m)\u001b[0m\u001b[0;34m\u001b[0m\u001b[0;34m\u001b[0m\u001b[0m\n\u001b[0m\u001b[1;32m     77\u001b[0m         \u001b[0;32mreturn\u001b[0m \u001b[0mfloat\u001b[0m\u001b[0;34m(\u001b[0m\u001b[0mvarN\u001b[0m\u001b[0;34m)\u001b[0m\u001b[0;34m\u001b[0m\u001b[0;34m\u001b[0m\u001b[0m\n\u001b[1;32m     78\u001b[0m \u001b[0;34m\u001b[0m\u001b[0m\n",
      "\u001b[0;31mAssertionError\u001b[0m: "
     ]
    }
   ],
   "source": [
    "## First, test some values directly\n",
    "num_unique_kmers=4980082\n",
    "ksize=21\n",
    "confidence=0.95\n",
    "scaled=1.0\n",
    "observed_containment=[0.320984]\n",
    "\n",
    "compute_confidence_intervals(observed_containment, num_unique_kmers, ksize, confidence, scaled)"
   ]
  },
  {
   "cell_type": "markdown",
   "id": "83ed3792-aee9-44b4-b843-cc647ebb5d06",
   "metadata": {},
   "source": [
    "### When ^ is working, we can run the function below to get values for all comparisons..."
   ]
  },
  {
   "cell_type": "code",
   "execution_count": null,
   "id": "4b691c7c-1a33-401b-8db1-bd18d1b05670",
   "metadata": {},
   "outputs": [],
   "source": [
    "# function run p_from_scaled_containment on full dataframe\n",
    "def mrcc_maxcontain(row, confidence=0.95, return_ANI=False):\n",
    "    scaled_perc = 1/row[\"scaled\"]\n",
    "    mc = row[\"max_containment\"]\n",
    "    num_kmers = row[\"num_unique_kmers\"]\n",
    "    ksize = row[\"ksize\"]\n",
    "    print(scaled_perc)\n",
    "    print(mc)\n",
    "    print(round(num_kmers))\n",
    "    print(ksize)\n",
    "    mc_results = compute_confidence_intervals([mc], num_kmers, ksize, confidence, scaled_perc)\n",
    "    pLow,pHigh = mc_results[6:]\n",
    "    if return_ANI:\n",
    "        row[\"mc_ANILow\"] = 1 - pLow\n",
    "        row[\"mc_ANIHigh\"] = 1- pHigh   \n",
    "    else:\n",
    "        row[\"mc_pLow\"] = pLow\n",
    "        row[\"mc_pHigh\"] = pHigh\n",
    "    return row"
   ]
  },
  {
   "cell_type": "code",
   "execution_count": null,
   "id": "a4aa526c-de20-41a7-ba6e-ebb30fa48da1",
   "metadata": {},
   "outputs": [],
   "source": [
    "# to run p_from_scaled_containment on full dataframe\n",
    "fullDF = infoDF.apply(mrcc_maxcontain, axis=1)"
   ]
  },
  {
   "cell_type": "code",
   "execution_count": null,
   "id": "12b82b99-b466-4e20-b2db-14b11d412095",
   "metadata": {},
   "outputs": [],
   "source": []
  }
 ],
 "metadata": {
  "kernelspec": {
   "display_name": "Python 3",
   "language": "python",
   "name": "python3"
  },
  "language_info": {
   "codemirror_mode": {
    "name": "ipython",
    "version": 3
   },
   "file_extension": ".py",
   "mimetype": "text/x-python",
   "name": "python",
   "nbconvert_exporter": "python",
   "pygments_lexer": "ipython3",
   "version": "3.6.13"
  }
 },
 "nbformat": 4,
 "nbformat_minor": 5
}
